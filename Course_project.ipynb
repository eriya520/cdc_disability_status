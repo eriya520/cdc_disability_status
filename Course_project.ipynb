{
 "cells": [
  {
   "cell_type": "code",
   "execution_count": null,
   "id": "459c3c5b-cd07-4584-a478-5b8d2fd0fe9a",
   "metadata": {
    "scrolled": true
   },
   "outputs": [],
   "source": [
    "#downoad data\n",
    "# ! pip install pandas\n",
    "# ! pip install sod\n",
    "# ! pip install \n",
    "# ! pip install seaborn"
   ]
  },
  {
   "cell_type": "markdown",
   "id": "f6dcc263-e910-4fe0-b25f-4e7a7d5775eb",
   "metadata": {},
   "source": [
    "# Develop predictive model for disability rates by demographic for better interventions and support services\n",
    "\n",
    "In this project, we aim to uncover patterns and disparities that might otherwise go unnoticed by developing a predictive data science model on metadata published by CDC from 2010. The disability rates and numbers are age weighted, so we can rule out the bias from age in the dataset.The data-driven approaches empower us to make informed decisions that enhance the equality of life for individuals with disabilities.\n",
    "To achieve the above objectives, we develop a data pipeline starting with data cleaning and analysis, transform features to meaningful date types (such as, categorical to hot-encoded features and transform numeric data into float type), evaluate and explore the hidden trends among features and target variable to provide new insights from the data, visualization of the trends help reveal the trends. Explored the correlation between selected features with target variable (data_value in percentage), so that we can see what features have higher correlations with target variable. Next, we created a predictive model based on selected features and evaluated the model accuracy on test dataset. Finally, we stored the selected features and target data as metadata with description in a readme.txt file, and shared our whole data analysis in github repository. \n"
   ]
  },
  {
   "cell_type": "code",
   "execution_count": null,
   "id": "c6ae42ea-c758-4877-9729-2f53d41803a7",
   "metadata": {},
   "outputs": [],
   "source": [
    "import pandas as pd\n",
    "import plotly.express as px\n",
    "import seaborn as sns\n",
    "import matplotlib.pyplot as plt"
   ]
  },
  {
   "cell_type": "code",
   "execution_count": null,
   "id": "c94a48b7-eb16-4aab-97a5-e1e45111b186",
   "metadata": {},
   "outputs": [],
   "source": [
    "\n",
    "from sodapy import Socrata\n",
    "\n",
    "# Unauthenticated client only works with public data sets. Note 'None'\n",
    "# in place of application token, and no username or password:\n",
    "client = Socrata(\"data.cdc.gov\", None)\n",
    "\n",
    "# Example authenticated client (needed for non-public datasets):\n",
    "# client = Socrata(data.cdc.gov,\n",
    "#                  MyAppToken,\n",
    "#                  username=\"user@example.com\",\n",
    "#                  password=\"AFakePassword\")\n",
    "\n",
    "# First 2000 results, returned as JSON from API / converted to Python list of\n",
    "# dictionaries by sodapy.\n",
    "results = client.get(\"qjg3-6acf\", limit=2000)\n",
    "\n",
    "# Convert to pandas DataFrame\n",
    "results_df = pd.DataFrame.from_records(results)"
   ]
  },
  {
   "cell_type": "code",
   "execution_count": null,
   "id": "b16a10ff-2b9e-49e1-a2cb-0adf01d37a81",
   "metadata": {},
   "outputs": [],
   "source": [
    "results_df = pd.read_csv('cdc_preventive_disability_2010.csv', header=0)\n",
    "results_df.head(2)"
   ]
  },
  {
   "cell_type": "markdown",
   "id": "926cb784-ee16-4f60-9687-c7d1a943f2af",
   "metadata": {},
   "source": [
    "# Data type and missing data "
   ]
  },
  {
   "cell_type": "code",
   "execution_count": null,
   "id": "f3b0c1be-2e53-4ae3-b9d5-0c812a192fda",
   "metadata": {},
   "outputs": [],
   "source": [
    "results_df.shape"
   ]
  },
  {
   "cell_type": "code",
   "execution_count": null,
   "id": "5e50d7ac-8575-40f7-a107-00d12a808144",
   "metadata": {},
   "outputs": [],
   "source": [
    "results_df.describe()"
   ]
  },
  {
   "cell_type": "code",
   "execution_count": null,
   "id": "0f211b27-8a97-4644-a500-e84d894a5b1a",
   "metadata": {},
   "outputs": [],
   "source": [
    "results_df.info()"
   ]
  },
  {
   "cell_type": "code",
   "execution_count": null,
   "id": "48537ffd-5faf-4ff9-9162-c7058687175e",
   "metadata": {},
   "outputs": [],
   "source": [
    "results_df.indicator.unique()"
   ]
  },
  {
   "cell_type": "code",
   "execution_count": null,
   "id": "21b4e610-37fd-4002-85a7-e7ab641944da",
   "metadata": {},
   "outputs": [],
   "source": [
    "results_df.response.unique()"
   ]
  },
  {
   "cell_type": "code",
   "execution_count": null,
   "id": "4879510b-e182-4a35-b3df-3cf65d4466ec",
   "metadata": {},
   "outputs": [],
   "source": [
    "# convert data_value into float type\n",
    "results_df.data_value = pd.to_numeric(results_df.data_value)"
   ]
  },
  {
   "cell_type": "markdown",
   "id": "c32bde68-1a5a-4c16-87d2-510bc7bb7e6e",
   "metadata": {},
   "source": [
    "# Data EDA and visualization"
   ]
  },
  {
   "cell_type": "code",
   "execution_count": null,
   "id": "6d918879-b01e-4ab4-b297-2382cd9fd8c1",
   "metadata": {},
   "outputs": [],
   "source": [
    "# create a function to reset the multilevel columns after group by and aggregation\n",
    "def reset_multi_level_columns(df):\n",
    "    mean_columns = ['_'.join(filter(None, col)) for col in df.columns]\n",
    "    df.columns=mean_columns\n",
    "    return df"
   ]
  },
  {
   "cell_type": "code",
   "execution_count": null,
   "id": "7affbf87-3f15-4b84-9992-2031172e6046",
   "metadata": {},
   "outputs": [],
   "source": [
    "# create a dataframe to look at the mean, median value group by indicator and response, reset multilevel columns\n",
    "mean_data_value_by_indicator_response = results_df.groupby(['indicator','response']).agg({'data_value': ['mean', 'median', 'count']}).reset_index()\n",
    "mean_data_value_by_indicator_response  = reset_multi_level_columns(mean_data_value_by_indicator_response)\n",
    "mean_data_value_by_indicator_response.head(2)"
   ]
  },
  {
   "cell_type": "code",
   "execution_count": null,
   "id": "983a86d3-d6cb-41f2-aa9d-c0e0ae9f5e78",
   "metadata": {},
   "outputs": [],
   "source": [
    "# plot the median values of data_value group by indicator and response\n",
    "fig = px.bar(mean_data_value_by_indicator_response,\n",
    "   x='response', y='data_value_median', color='indicator', barmode='group')\n",
    "fig.update_layout(title= 'Bar plot of median data_value group by indicator and response')\n",
    "fig.show()"
   ]
  },
  {
   "cell_type": "markdown",
   "id": "fed0b664-56a2-48fb-a2d9-84959e2fe593",
   "metadata": {
    "jp-MarkdownHeadingCollapsed": true
   },
   "source": [
    "### Observation:\n",
    "* For disability by age group showed the disability rate is higher as age increases;\n",
    "* For diability by race/ethnicity group, the disability rate for American Indian/ Native Hawaiian/multirace are the top three high disability rate group, white non hispanic being the lowest rate; This might related to the limitation of good health care for these groups or affortability to medicare.\n",
    "* For sex group, the disability rate of female vs male are close;\n",
    "* For verteran status group, the disability rate of veteran is slightly higher than non-veteran; The slightly higher disability of veteran might due to injury from war."
   ]
  },
  {
   "cell_type": "markdown",
   "id": "c49fcc7d-9ae5-4623-ad72-a33213ca90b4",
   "metadata": {},
   "source": [
    "## Investigate the median data_value group by indicator and stratification1"
   ]
  },
  {
   "cell_type": "code",
   "execution_count": null,
   "id": "251e021b-d264-4377-91a6-51c47241c3df",
   "metadata": {},
   "outputs": [],
   "source": [
    "mean_data_value_by_stratification1 = results_df.groupby(['indicator','stratification1']).agg({'data_value': ['mean', 'median', 'count']}).reset_index()\n",
    "mean_data_value_by_stratification1 = reset_multi_level_columns(mean_data_value_by_stratification1)\n",
    "mean_data_value_by_stratification1.head(2)"
   ]
  },
  {
   "cell_type": "code",
   "execution_count": null,
   "id": "8ad72e4a-ec62-493a-8575-e1f120a2c16e",
   "metadata": {},
   "outputs": [],
   "source": [
    "# Bar plot of median data_value gropu by indicator and straitification1\n",
    "fig = px.bar(mean_data_value_by_stratification1,\n",
    "   x='stratification1', y='data_value_median', color = 'indicator', barmode='group')\n",
    "fig.update_layout(title= 'Bar plot of median_data_value')\n",
    "fig.show()"
   ]
  },
  {
   "cell_type": "markdown",
   "id": "3d9fdb48-06af-45b5-ae07-110f2d87e560",
   "metadata": {},
   "source": [
    "### Observation:\n",
    "* The median disability data_value is similar among four indicator categories (age group, race/ethnicity, sex, veteran_status)\n",
    "    * hearing disability rate is higher for veteran status group, this might be associated with veteran group that suffer from hearing injury from war;\n",
    "    * mobility disability is higher in age group, rate/ethnicity and veteran status group, which will look a little more in-depth;\n",
    "* The no disability rate is the highest ~70-73%, and any disability rate is about 27-30%\n",
    "* Within the disability categories, the cognitive disability and mobility disability are among the highest. "
   ]
  },
  {
   "cell_type": "code",
   "execution_count": null,
   "id": "209c7def-531c-47f5-8a47-4e14471a0906",
   "metadata": {},
   "outputs": [],
   "source": [
    "mean_data_value_by_stratification1_response = results_df.groupby(['response','stratification1']).agg({'data_value': ['mean', 'median', 'count']}).reset_index()\n",
    "mean_data_value_by_stratification1_response = reset_multi_level_columns(mean_data_value_by_stratification1_response)\n",
    "mean_data_value_by_stratification1_response.head(2)"
   ]
  },
  {
   "cell_type": "code",
   "execution_count": null,
   "id": "6e94cd0a-ab3e-4013-8575-40aa01617103",
   "metadata": {},
   "outputs": [],
   "source": [
    "# Bar plot of median data_value gropu by indicator and straitification1\n",
    "fig = px.bar(mean_data_value_by_stratification1_response,\n",
    "   x='stratification1', y='data_value_median', color = 'response', barmode='group')\n",
    "fig.update_layout(title= 'Bar plot of median_data_value by response and stratification1')\n",
    "fig.show()"
   ]
  },
  {
   "cell_type": "markdown",
   "id": "34d14ce4-98c0-402e-8acd-d7b444c9e848",
   "metadata": {},
   "source": [
    "### Observations(by toddling the legends):\n",
    "* Look the three age groups, the higher disability rate in hearing disbility, mobility, vision disability and independent living disability increases in elderly group (65+); the cognititive disability, however, decreases as age increases.\n",
    "* Look at the race/ethnicity groups, the lowest disability rate is Asian in all sub categories; White nonhistpanic group has the 2nd lowest disability. Nativethe rest of the groups have similar rate; Other/multirace being the highest rate for disability;\n",
    "* For sex groups, the disability rate rate are similar; hearing disability for male is higher than female, indepedent living disability for female is higher than male.\n",
    "* For veteran status groups, the hearing and mobidity disability of veteran is higher than non-veratan, the rest disability categories are similar"
   ]
  },
  {
   "cell_type": "markdown",
   "id": "d1dbf71e-d532-4358-b8b0-dabf9b40b578",
   "metadata": {},
   "source": [
    "## Check the number of entries group by indicator and stratification1 to see if there's any significant imbalance of data"
   ]
  },
  {
   "cell_type": "code",
   "execution_count": null,
   "id": "0c25f990-de08-4e24-b474-8d9a7a06e4f0",
   "metadata": {},
   "outputs": [],
   "source": [
    "# Bar plot of median data_value gropu by indicator and stratification1\n",
    "fig = px.bar(mean_data_value_by_stratification1_response,\n",
    "   x='stratification1', y='data_value_count', color = 'response', barmode='group')\n",
    "fig.update_layout(title= 'Bar plot of counts by response and stratification1')\n",
    "fig.show()"
   ]
  },
  {
   "cell_type": "markdown",
   "id": "cc0f92fa-5fae-4329-b753-a216d9c23f9b",
   "metadata": {},
   "source": [
    "### Observations on imbalanced data:\n",
    "* For race/ethnicity groups, the population of Asian and Native Hawaiian are significantly less as compared to other groups; \n",
    "* The rest of the groups did not observe a significant less population/counts"
   ]
  },
  {
   "cell_type": "markdown",
   "id": "3c36bf7c-94f4-4aa9-969e-5d4118325833",
   "metadata": {},
   "source": [
    "## Disability median data_value by state"
   ]
  },
  {
   "cell_type": "code",
   "execution_count": null,
   "id": "e8d5732a-b008-46c6-997b-49e385c94bde",
   "metadata": {},
   "outputs": [],
   "source": [
    "data_value_by_state = results_df.groupby('locationabbr').agg({'data_value':'median'}).reset_index().sort_values(by='data_value', ascending=False)\n",
    "\n",
    "fig = px.bar(data_value_by_state.iloc[:15,:],\n",
    "   x='locationabbr', y='data_value', )\n",
    "fig.update_layout(title= 'Bar plot of top 15 disability median_data_value by state')\n",
    "fig.show()"
   ]
  },
  {
   "cell_type": "code",
   "execution_count": null,
   "id": "f0641e06-0e60-429a-b19b-9b5ba6ea7d6d",
   "metadata": {},
   "outputs": [],
   "source": [
    "fig = px.bar(data_value_by_state.iloc[-15:,:],\n",
    "   x='locationabbr', y='data_value', )\n",
    "fig.update_layout(title= 'Bar plot of top 15 Lowest disability median_data_value by state')\n",
    "fig.update_yaxes(range=[0, 45])\n",
    "\n",
    "fig.show()"
   ]
  },
  {
   "cell_type": "markdown",
   "id": "14b4fb79-491d-402b-8f36-7cd9561965f4",
   "metadata": {},
   "source": [
    "# Check fairness and mitigate bias\n",
    "* check and mitigate the bias in Race/Ethnicity, especially for Asian and Native Hawaiian groups\n"
   ]
  },
  {
   "cell_type": "code",
   "execution_count": null,
   "id": "84fb22bb-420b-4ba3-86c7-fea18e4012a1",
   "metadata": {},
   "outputs": [],
   "source": [
    "#!pip install aif360"
   ]
  },
  {
   "cell_type": "code",
   "execution_count": null,
   "id": "8df4c504-191f-49d1-bd9a-a210ffaf46af",
   "metadata": {
    "scrolled": true
   },
   "outputs": [],
   "source": [
    "import pandas as pd\n",
    "from aif360.datasets import StandardDataset\n",
    "from aif360.metrics import BinaryLabelDatasetMetric\n",
    "from aif360.algorithms.preprocessing import Reweighing\n"
   ]
  },
  {
   "cell_type": "markdown",
   "id": "4e144a21-323c-4b6a-ab6e-d75cc8852f19",
   "metadata": {},
   "source": [
    "### Convert catogorical values to dummified columns"
   ]
  },
  {
   "cell_type": "code",
   "execution_count": null,
   "id": "a7cbbf65-ddc9-4b5c-93c0-c8c46123651e",
   "metadata": {},
   "outputs": [],
   "source": [
    "categorical_cols = ['stratificationid1','responseid','indicatorid']\n",
    "results_df_encoded = pd.get_dummies(results_df,\n",
    "                                    columns = categorical_cols,\n",
    "                                    drop_first=False)\n",
    "results_df_encoded.head(2)"
   ]
  },
  {
   "cell_type": "code",
   "execution_count": null,
   "id": "dc653b4e-5d27-4d13-9802-45cd34d48d40",
   "metadata": {},
   "outputs": [],
   "source": [
    "# convert the dummy cols from False/True to numeric 0/1\n",
    "dummy_cols = [i for i in results_df_encoded.columns if i not in results_df.columns]\n",
    "results_df_encoded  = results_df_encoded[dummy_cols].map(lambda x: {False:0, True:1}.get(x, x))"
   ]
  },
  {
   "cell_type": "code",
   "execution_count": null,
   "id": "5d5c1846-1dea-425e-9a3a-8ffebeb37c21",
   "metadata": {},
   "outputs": [],
   "source": [
    "# drop the binary encoded column such as sex, age, veteran and disability vs nodisability\n",
    "results_df_encoded = results_df_encoded.drop(['responseid_SEX01','responseid_AGE02', 'responseid_VET1','stratificationid1_NODIS'], axis=1)"
   ]
  },
  {
   "cell_type": "code",
   "execution_count": null,
   "id": "198139a1-24c4-4a0b-a93e-dad655551d4c",
   "metadata": {
    "scrolled": true
   },
   "outputs": [],
   "source": [
    "# combine selected features with dummy features\n",
    "results_df_dummy_clean = pd.concat([results_df[['locationid', 'data_value']], results_df_encoded], axis=1)\n",
    "results_df_dummy_clean = results_df_dummy_clean.dropna(subset=['data_value'])\n",
    "print('Data size after drop null value in data_value',results_df_dummy_clean.shape[0])\n",
    "results_df_dummy_clean.head(2)"
   ]
  },
  {
   "cell_type": "markdown",
   "id": "21f440e0-9c07-4eec-808f-f5df1fa4ffb7",
   "metadata": {},
   "source": [
    "### Save the cleaned data as csv files "
   ]
  },
  {
   "cell_type": "code",
   "execution_count": null,
   "id": "5adda4a5-dc04-4615-9f1f-2cd891ff91ad",
   "metadata": {},
   "outputs": [],
   "source": [
    "results_df_dummy_clean.to_csv('cdc_2021_preventative_disability_status_type_demographic_data_one_hot_encoded.csv')"
   ]
  },
  {
   "cell_type": "markdown",
   "id": "520f9dec-f50e-45e2-8b0b-acbcb46001d1",
   "metadata": {},
   "source": [
    "## Check correlation heatmap"
   ]
  },
  {
   "cell_type": "code",
   "execution_count": null,
   "id": "112d8495-88c4-491f-afa5-d87b7738ed4d",
   "metadata": {},
   "outputs": [],
   "source": [
    "corr_matrix = results_df_dummy_clean.corr()\n",
    "\n",
    "plt.figure(figsize = (15,10))\n",
    "sns.heatmap(corr_matrix, annot=True, cmap='coolwarm', fmt = '.2f')\n",
    "plt.title('Feature correlation heatmap')\n",
    "plt.show()"
   ]
  },
  {
   "cell_type": "code",
   "execution_count": null,
   "id": "dc7cd330-1df6-4cba-834e-42ba8b76584b",
   "metadata": {},
   "outputs": [],
   "source": [
    "from sklearn.model_selection import train_test_split\n",
    "from sklearn.ensemble import RandomForestClassifier\n",
    "from sklearn.metrics import accuracy_score, classification_report\n",
    "from sklearn.preprocessing import StandardScaler\n",
    "import numpy as np\n",
    "#set random seed\n",
    "np.random.seed(40)"
   ]
  },
  {
   "cell_type": "markdown",
   "id": "9ee0a49d-66f1-4b4b-8c72-f712f2d7ac37",
   "metadata": {},
   "source": [
    "## Data train and test split"
   ]
  },
  {
   "cell_type": "code",
   "execution_count": null,
   "id": "ea1f424f-144f-4908-a32b-15105b39ec29",
   "metadata": {},
   "outputs": [],
   "source": [
    "# Define features and target variables \n",
    "target_cols = [col for col in results_df_dummy_clean.columns if 'stratificationid1_' in col]\n",
    "X = results_df_dummy_clean.drop(target_cols, axis=1)\n",
    "y = results_df_dummy_clean[target_cols]\n",
    "\n",
    "# standard scaler\n",
    "scaler = StandardScaler()\n",
    "X_scale = scaler.fit_transform(X)\n",
    "\n",
    "# train and test split\n",
    "X_train, X_test, y_train, y_test = train_test_split(X_scale, y, test_size=0.2, random_state=42)\n",
    "\n",
    "print(f'Train dataset size : {X_train.shape} and Test dataset size: {X_test.shape}')"
   ]
  },
  {
   "cell_type": "markdown",
   "id": "444b8da4-0054-41f9-9e97-2e2b940a3198",
   "metadata": {},
   "source": [
    "## Model selection and evaluation"
   ]
  },
  {
   "cell_type": "code",
   "execution_count": null,
   "id": "6127f672-3335-4be7-90e0-11d1a549b64e",
   "metadata": {},
   "outputs": [],
   "source": [
    "from sklearn.ensemble import RandomForestClassifier\n",
    "\n",
    "# Initialize and train the model\n",
    "model = RandomForestClassifier(n_estimators=100, random_state=42)\n",
    "model.fit(X_train, y_train)\n",
    "\n",
    "# Make predictions\n",
    "y_pred = model.predict(X_test)\n",
    "\n",
    "# Compute accuracy\n",
    "accuracy = accuracy_score(y_test, y_pred)\n",
    "print(f\"Accuracy: {accuracy:.2f}\")\n",
    "\n",
    "# Detailed classification report\n",
    "print(classification_report(y_test, y_pred, target_names=y_train.columns))\n"
   ]
  },
  {
   "cell_type": "markdown",
   "id": "b4bfd647-dfd7-4821-98ec-48294b2f5f92",
   "metadata": {},
   "source": [
    "### Baseline model can achieve 0.91 F1 score for correctively predict disability, but low f1 score for predict a specific diability type\n",
    "\n",
    "## Grid search for best estimator"
   ]
  },
  {
   "cell_type": "code",
   "execution_count": null,
   "id": "7fd44f4c-5a13-4aaa-ad6a-6c723c771bbc",
   "metadata": {},
   "outputs": [],
   "source": [
    "# Define the parameter grid\n",
    "param_grid = {\n",
    "    'n_estimators': [50, 100, 200],\n",
    "    'max_depth': [None, 10, 20],\n",
    "    'min_samples_split': [2, 5, 10],\n",
    "    'min_samples_leaf': [1, 2, 4],\n",
    "    'bootstrap': [True, False]\n",
    "}\n",
    "\n",
    "# Initialize the Random Forest Classifier\n",
    "rf = RandomForestClassifier(random_state=42)\n",
    "\n",
    "# Perform Grid Search\n",
    "grid_search = GridSearchCV(rf, param_grid, cv=5, scoring='accuracy', n_jobs=-1)\n",
    "grid_search.fit(X_train, y_train)\n",
    "\n",
    "# Get the best parameters\n",
    "print(\"Best hyperparameters:\", grid_search.best_params_)\n"
   ]
  },
  {
   "cell_type": "code",
   "execution_count": null,
   "id": "2002e872-756d-49c1-a5a9-00f979db07f2",
   "metadata": {
    "scrolled": true
   },
   "outputs": [],
   "source": [
    "best_model = grid_search.best_estimator_\n",
    "y_pred = best_model.predict(X_test)\n",
    "\n",
    "# Evaluate performance\n",
    "# Compute accuracy\n",
    "accuracy = accuracy_score(y_test, y_pred)\n",
    "print(f\"Accuracy: {accuracy:.2f}\")\n",
    "\n",
    "# Detailed classification report\n",
    "print(classification_report(y_test, y_pred, target_names=y_train.columns))\n"
   ]
  },
  {
   "cell_type": "code",
   "execution_count": null,
   "id": "c390acb0-91c3-4ea2-bab9-a6483afe973c",
   "metadata": {},
   "outputs": [],
   "source": [
    "results_df_dummy_clean_droped = results_df_dummy_clean.drop(['stratificationid1_DISABL'], axis=1)"
   ]
  },
  {
   "cell_type": "markdown",
   "id": "165016f4-4dfe-47e9-af26-17cfcb727336",
   "metadata": {},
   "source": [
    "## Prepare train and test dataset"
   ]
  },
  {
   "cell_type": "code",
   "execution_count": null,
   "id": "5cb04139-3842-418e-a41d-231696b2b27b",
   "metadata": {},
   "outputs": [],
   "source": [
    "from sklearn.model_selection import train_test_split\n",
    "from sklearn.preprocessing import StandardScaler\n",
    "import numpy as np\n",
    "#set random seed for python's build-in random module\n",
    "np.random.seed(42)"
   ]
  },
  {
   "cell_type": "code",
   "execution_count": null,
   "id": "a48e0d71-6550-43b9-afc1-23205fdab83d",
   "metadata": {},
   "outputs": [],
   "source": [
    "results_df.stratificationid1.unique()"
   ]
  },
  {
   "cell_type": "code",
   "execution_count": null,
   "id": "97f2906c-870b-4024-ac0e-5e82d3a599f3",
   "metadata": {},
   "outputs": [],
   "source": [
    "# Define features and target variable\n",
    "drop_cols = [col for col in results_df_dummy_clean.columns if 'stratificationid1_' in col or 'data_value' in col]\n",
    "target_cols = ['stratificationid1_HEARDIS','stratificationid1_MOBDIS','straitificationid1_COGDIS']\n",
    "X = results_df_dummy_clean.drop(drop_cols, axis=1)\n",
    "y = results_df_dummy_clean[target_cols]\n",
    "\n",
    "# Split into 80% training and 20% test sets\n",
    "X_train, X_test, y_train, y_test = train_test_split(X, y, test_size=0.2, random_state=42)\n",
    "\n",
    "# Check the shape of the datasets\n",
    "print(f\"Training set shape: {X_train.shape}, Testing set shape: {X_test.shape}\")\n"
   ]
  },
  {
   "cell_type": "code",
   "execution_count": null,
   "id": "40250af8-c3c8-4d85-95a0-9f7123018822",
   "metadata": {},
   "outputs": [],
   "source": [
    "# Since most of the features are dummified features but the locationID is not, we'll normalize the data using standardscaler\n",
    "\n",
    "scaler = StandardScaler()\n",
    "X_train_scaled, X_test_scaled = scaler.fit_transform(X_train), scaler.fit_transform(X_test)\n"
   ]
  },
  {
   "cell_type": "markdown",
   "id": "1969f1ea-d9f7-48ff-87ad-f601cacecca2",
   "metadata": {},
   "source": [
    "## Model selection and training\n",
    "\n",
    "For regression model, we can experiment LinearRegression, RandomForestRegressor from Sklearn; we'll compare these two and select a better model based on metrics like MSE and R2 score"
   ]
  },
  {
   "cell_type": "code",
   "execution_count": null,
   "id": "6e1325fd-5d33-4629-8678-5c5df437af29",
   "metadata": {},
   "outputs": [],
   "source": [
    "# Random forestest regressor\n",
    "from sklearn.ensemble import RandomForestClassifier\n",
    "\n",
    "# Grid search for hyper parameters optimization\n",
    "from sklearn.model_selection import GridSearchCV\n",
    "\n",
    "# Model evaluation metrics\n",
    "from sklearn.metrics import mean_squared_error, r2_score"
   ]
  },
  {
   "cell_type": "code",
   "execution_count": null,
   "id": "c0e16050-6a10-469c-b3af-0571d4895b55",
   "metadata": {},
   "outputs": [],
   "source": [
    "# log the metrics \n",
    "metric_logs = pd.DataFrame()\n",
    "metric_logs.loc[0, 'model'] = 'linear_regression'\n",
    "metric_logs.loc[0, 'mse_test'] = round(mse,2)\n",
    "metric_logs.loc[0, 'r2_test'] = round(r2,2)\n",
    "metric_logs"
   ]
  },
  {
   "cell_type": "code",
   "execution_count": null,
   "id": "deb0a209-6f9a-4bb1-b7da-6ef93f432bfa",
   "metadata": {},
   "outputs": [],
   "source": [
    "# initialize and train the model\n",
    "rf = RandomForestClassifier(n_estimators = 100, random_state=42)\n",
    "rf.fit(X_train_scaled, y_train)\n",
    "\n",
    "# prediction\n",
    "y_pred = rf.predict(X_test_scaled)"
   ]
  },
  {
   "cell_type": "code",
   "execution_count": null,
   "id": "ba60d53d-381b-4e7f-a626-8f9dd2613c4c",
   "metadata": {},
   "outputs": [],
   "source": [
    "# calculate MSE and R2 score\n",
    "mse = mean_squared_error(y_test, y_pred)\n",
    "r2 = r2_score(y_test, y_pred)\n",
    "\n",
    "print('Random Forest Regressor metrics')\n",
    "print(f\"Mean Squared Error: {mse:.2f}\")\n",
    "print(f\"R² Score: {r2:.2f}\")"
   ]
  },
  {
   "cell_type": "code",
   "execution_count": null,
   "id": "1c042fab-e2ee-4402-8788-1fee35ed0dbb",
   "metadata": {},
   "outputs": [],
   "source": [
    "# log the metric and add to the log dataframe\n",
    "i = len(metric_logs)\n",
    "metric_logs.loc[i, 'model'] = 'random_forest_bs'\n",
    "metric_logs.loc[i, 'mse_test'] = round(mse,2)\n",
    "metric_logs.loc[i, 'r2_test'] = round(r2,2)\n",
    "metric_logs"
   ]
  },
  {
   "cell_type": "code",
   "execution_count": null,
   "id": "783bc071-90d7-4704-80ff-cd55829e0da5",
   "metadata": {},
   "outputs": [],
   "source": [
    "param_grid = {\n",
    "    'n_estimators': [50, 100, 200],\n",
    "    'max_depth': [None, 10, 20],\n",
    "    'min_samples_split': [2, 5, 10]\n",
    "}\n",
    "\n",
    "grid_search = GridSearchCV(RandomForestRegressor(random_state=42), param_grid, cv=5, scoring='r2')\n",
    "grid_search.fit(X_train_scaled, y_train)\n",
    "\n",
    "# Best parameters\n",
    "print(\"Best parameters:\", grid_search.best_params_)\n"
   ]
  },
  {
   "cell_type": "code",
   "execution_count": null,
   "id": "8cc220aa-510e-43a9-aba0-dff8dbfd14e4",
   "metadata": {},
   "outputs": [],
   "source": [
    "# make prediction\n",
    "y_pred_grid = grid_search.predict(X_test_scaled)\n",
    "\n",
    "# calculate MSE and R2 score\n",
    "mse = mean_squared_error(y_test, y_pred_grid)\n",
    "r2 = r2_score(y_test, y_pred_grid)\n",
    "\n",
    "print('Random Forest Regressor grid_search best estimator metrics')\n",
    "print(f\"Mean Squared Error: {mse:.2f}\")\n",
    "print(f\"R² Score: {r2:.2f}\")\n",
    "\n"
   ]
  },
  {
   "cell_type": "code",
   "execution_count": null,
   "id": "6d2893ae-7535-4500-9f00-ce2d485c258e",
   "metadata": {},
   "outputs": [],
   "source": [
    "# log the metric and add to the log dataframe\n",
    "i = len(metric_logs)\n",
    "metric_logs.loc[i, 'model'] = 'random_forest_gv'\n",
    "metric_logs.loc[i, 'mse_test'] = round(mse,2)\n",
    "metric_logs.loc[i, 'r2_test'] = round(r2,2)\n",
    "metric_logs"
   ]
  },
  {
   "cell_type": "markdown",
   "id": "0e329fc7-3979-467d-b2cb-b3925f0d093b",
   "metadata": {},
   "source": [
    "# Gridsearch best estimator improved slightly the f1 score in predicting specific type of disability and remain the same f1-score for corectively predicting disability"
   ]
  },
  {
   "cell_type": "markdown",
   "id": "e1ce6aec-d08f-491b-b59a-36dc977dcc4b",
   "metadata": {},
   "source": [
    "### Visualize feature importance"
   ]
  },
  {
   "cell_type": "code",
   "execution_count": null,
   "id": "d27088e5-9603-4056-bce5-393df1e15076",
   "metadata": {},
   "outputs": [],
   "source": [
    "# extract feature importance\n",
    "best_model = grid_search.best_estimator_\n",
    "feature_importance = best_model.feature_importances_\n",
    "\n",
    "#create dataframe\n",
    "importance_df = pd.DataFrame({'Feature': X.columns, 'Importance': feature_importance})\n",
    "importance_df = importance_df.sort_values(by='Importance', ascending=False)\n",
    "\n",
    "# Plot feature importance\n",
    "plt.figure(figsize=(10, 6))\n",
    "plt.barh(importance_df['Feature'], importance_df['Importance'])\n",
    "plt.xlabel(\"Feature Importance Score\")\n",
    "plt.ylabel(\"Features\")\n",
    "plt.title(\"Feature Importance in Random Forest\")\n",
    "plt.gca().invert_yaxis()  # Highest importance on top\n",
    "plt.show()\n"
   ]
  },
  {
   "cell_type": "markdown",
   "id": "ef776278-ec30-4d5e-ba93-752dce9605ed",
   "metadata": {},
   "source": [
    "# The most influence feature is `data_value` followed by `locatoinid`, the demographic features are not as important in predicting disability status and types"
   ]
  },
  {
   "cell_type": "markdown",
   "id": "ea944bd3-581f-4281-ae7b-485334f1fcaa",
   "metadata": {},
   "source": [
    "# Conclusion \n",
    "\n",
    "From this project, we have explore the hidden trends between disability status and types across different demographic groups, we had observed the following important trends that can provide insights for developing better interventions and service. Through the data pipeline, we explore data type, drop nul value in 'data_value', convert categorical features to encoded features, drop highly correlated features to decrease overfit risks, and visualize the trends to provide better insights:\n",
    "* **Age**:\n",
    "    * Older adults have significantly higher disability rates compared to younger age groups. \n",
    "* **Race/Ethnicity**:\n",
    "    * Some racial groups, including American Indian or Alaska Native and Other/Multirace, have higher disability prevalence. \n",
    "* **Socioeconomic Factors**:\n",
    "    * Individuals with lower education levels and from minority racial backgrounds may experience higher disability severity. \n",
    "* **Sex**:\n",
    "    * Women may be more likely to experience certain types of disabilities compared to men. \n",
    "* **Disability Types**:\n",
    "    * Common types include difficulties with walking or mobility, independent living (errands alone), and cognitive difficulties.\n",
    "* We have siginificantly less data for Asian and Native Hawaiian groups, which is likely due to being minority in US.\n",
    "\n",
    "We also prepared train and test dataset, and defined the disability status and disability types as our target variables, and use  `data_value`, `locationid` as well as `one_hot_encoded` `response` and `indicator` classes as features. We developed a multiclassification model using `RandomForestClassifier` and optimize the hyper parameters through `grid_search` and evaluate the model metrics for disability status and type via `accuracy` and `f1_score`. We concluded that the best model is able to achieve 91% F1_score in predict correctly the disability status, but the model has poor performance in predicting disability types correctly. \n",
    "\n",
    "## Future plan\n",
    "* Given more time, I will attempt to explore:\n",
    "    * Feature engineering such as `2d order polynomial features`\n",
    "    * Different model type such as `XGBoost` or `SVM` algorithms\n",
    "    * Explore if there's any additional data for disbility prevalance that can add to this study\n",
    "  \n"
   ]
  },
  {
   "cell_type": "code",
   "execution_count": null,
   "id": "c8c77ace-0ecd-4f63-a054-440b9429ca3f",
   "metadata": {},
   "outputs": [],
   "source": []
  }
 ],
 "metadata": {
  "kernelspec": {
   "display_name": "Python 3 (ipykernel)",
   "language": "python",
   "name": "python3"
  },
  "language_info": {
   "codemirror_mode": {
    "name": "ipython",
    "version": 3
   },
   "file_extension": ".py",
   "mimetype": "text/x-python",
   "name": "python",
   "nbconvert_exporter": "python",
   "pygments_lexer": "ipython3",
   "version": "3.10.12"
  }
 },
 "nbformat": 4,
 "nbformat_minor": 5
}
